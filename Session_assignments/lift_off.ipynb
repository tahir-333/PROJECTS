{
 "cells": [
  {
   "cell_type": "markdown",
   "metadata": {},
   "source": [
    "# PROBLEM STATEMENT\n",
    "\n",
    "Write a program that prints out the calls for a spaceship that is about to launch. Countdown from 10 to 1 and then output Liftoff!\n",
    "\n",
    "Here's a sample run of the program:\n",
    "\n",
    "10 9 8 7 6 5 4 3 2 1 Liftoff!\n",
    "\n",
    "There are many ways to solve this problem. One approach is to use a for loop, and to use the for loop variable i. Recall that i will keep track of how many times the for loop has completed executing its body. As an example this code:\n",
    "\n",
    "for i in range(10): print(i)\n",
    "\n",
    "Will print out the values 0, 1, 2, 3, 4, 5, 6, 7, 8, 9. The values printed in liftoff are 10 minus the number of times the for loop has completed."
   ]
  },
  {
   "cell_type": "markdown",
   "metadata": {},
   "source": [
    "### STEPS TO DO THE PROJECT \n",
    "* Use the loop (for while) to count down from 10 to 0.\n",
    "* Use print to print the string \"Liftoff\"."
   ]
  },
  {
   "cell_type": "code",
   "execution_count": null,
   "metadata": {},
   "outputs": [
    {
     "name": "stdout",
     "output_type": "stream",
     "text": [
      "10 9 8 7 6 5 4 3 2 1 0 Liftoff!\n"
     ]
    }
   ],
   "source": [
    "#   Solution using the while loop.\n",
    "\n",
    "def countdown1():                                     # Defining the function\n",
    "    i = 10                                      # Initialization of the loop.\n",
    "    while i >= 0:                               # Termination of the loop.\n",
    "        print(i, end = \" \")\n",
    "        i = i - 1                               # Updation or intervals in the loop.\n",
    "    print(\"Liftoff!\")             \n",
    "   \n",
    "   \n",
    "countdown1()                # Calling the function."
   ]
  },
  {
   "cell_type": "code",
   "execution_count": null,
   "metadata": {},
   "outputs": [
    {
     "name": "stdout",
     "output_type": "stream",
     "text": [
      "10 9 8 7 6 5 4 3 2 1 Liftoff!\n"
     ]
    }
   ],
   "source": [
    "# Solution using the for loop\n",
    "\n",
    "\n",
    "def countdown2():                     # Defining the function.\n",
    "    \n",
    "    for i in range(10, 0, -1):                   # Defining the range of the numbers, where range start from 10, ends at 0 having intervals of -1.\n",
    "        print(i, end = \" \")\n",
    "    print(\"Liftoff!\")\n",
    "    \n",
    "countdown2()                             # Calling the function.\n",
    "    "
   ]
  },
  {
   "cell_type": "code",
   "execution_count": null,
   "metadata": {},
   "outputs": [
    {
     "name": "stdout",
     "output_type": "stream",
     "text": [
      "10 9 8 7 6 5 4 3 2 1 0 Liftoff!\n"
     ]
    }
   ],
   "source": [
    "# Solution using the list and for loop\n",
    "\n",
    "\n",
    "number_list : list[int] =  [10,9,8,7,6,5,4,3,2,1,0]                             # List of numbers.\n",
    "def countdown3():                                       # Defining the function.\n",
    "    for i in number_list:\n",
    "        print(i, end = \" \")            # Printing the output in the horizontal (list) formate having single space between the integers.\n",
    "        \n",
    "    print(\"Liftoff!\")                                  \n",
    "    \n",
    "countdown3()                              # Calling the function."
   ]
  }
 ],
 "metadata": {
  "kernelspec": {
   "display_name": "Python 3",
   "language": "python",
   "name": "python3"
  },
  "language_info": {
   "codemirror_mode": {
    "name": "ipython",
    "version": 3
   },
   "file_extension": ".py",
   "mimetype": "text/x-python",
   "name": "python",
   "nbconvert_exporter": "python",
   "pygments_lexer": "ipython3",
   "version": "3.12.7"
  }
 },
 "nbformat": 4,
 "nbformat_minor": 2
}

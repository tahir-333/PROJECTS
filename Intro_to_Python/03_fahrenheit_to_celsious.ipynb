{
 "cells": [
  {
   "cell_type": "markdown",
   "metadata": {},
   "source": [
    "# Problem Statement\n",
    "Write a program which prompts the user for a temperature in Fahrenheit (this can be a number with decimal places!) and outputs the temperature converted to Celsius.\n",
    "\n",
    "The Celsius scale is widely used to measure temperature, but places still use Fahrenheit. Fahrenheit is another unit for temperature, but the scale is different from Celsius -- for example, 0 degrees Celsius is 32 degrees Fahrenheit!\n",
    "\n",
    "The equation you should use for converting from Fahrenheit to Celsius is the following:\n",
    "\n",
    "degrees_celsius = (degrees_fahrenheit - 32) * 5.0/9.0\n",
    "\n",
    "(Note. The .0 after the 5 and 9 matters in the line above!!!)\n",
    "\n",
    "Here's a sample run of the program (user input is in bold italics):\n",
    "\n",
    "Enter temperature in Fahrenheit: 76\n",
    "\n",
    "Temperature: 76.0F = 24.444444444444443C"
   ]
  },
  {
   "cell_type": "code",
   "execution_count": 7,
   "metadata": {},
   "outputs": [
    {
     "name": "stdout",
     "output_type": "stream",
     "text": [
      "Temperature: 12.0F = 12.0C.\n"
     ]
    }
   ],
   "source": [
    "degree_fahrenheit = float(int(input(\"Enter temperature in Fahrenheit: \"))) \n",
    "\n",
    "degree_celsius = (degree_fahrenheit-32)* 5.0 / 9.0\n",
    "\n",
    "print(f\"Temperature: {degree_fahrenheit}F = {degree_fahrenheit}C.\")\n"
   ]
  }
 ],
 "metadata": {
  "kernelspec": {
   "display_name": "Python 3",
   "language": "python",
   "name": "python3"
  },
  "language_info": {
   "codemirror_mode": {
    "name": "ipython",
    "version": 3
   },
   "file_extension": ".py",
   "mimetype": "text/x-python",
   "name": "python",
   "nbconvert_exporter": "python",
   "pygments_lexer": "ipython3",
   "version": "3.12.7"
  }
 },
 "nbformat": 4,
 "nbformat_minor": 2
}

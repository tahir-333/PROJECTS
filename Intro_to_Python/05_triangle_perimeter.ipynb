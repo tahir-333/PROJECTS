{
 "cells": [
  {
   "cell_type": "markdown",
   "metadata": {},
   "source": [
    "# PROBLEM STATEMENT\n",
    "Prompt the user to enter the lengths of each side of a triangle and then calculate and print the perimeter of the triangle (the sum of all of the side lengths).\n",
    "\n",
    "Here's a sample run of the program (user input is in bold italics):\n",
    "\n",
    "What is the length of side 1? 3\n",
    "\n",
    "What is the length of side 2? 4\n",
    "\n",
    "What is the length of side 3? 5.5\n",
    "\n",
    "The perimeter of the triangle is 12.5"
   ]
  },
  {
   "cell_type": "code",
   "execution_count": 3,
   "metadata": {},
   "outputs": [
    {
     "name": "stdout",
     "output_type": "stream",
     "text": [
      "The Perimeter of the triangle is 23.6.\n"
     ]
    }
   ],
   "source": [
    "side1 = float(input(\"What is the length of side: \"))\n",
    "side2 = float(input(\"What is the length of side: \"))\n",
    "side3 = float(input(\"What is the length of side: \"))\n",
    "\n",
    "perimeter = side1 + side2 + side3\n",
    "\n",
    "print(f\"The Perimeter of the triangle is {perimeter}.\")\n"
   ]
  }
 ],
 "metadata": {
  "kernelspec": {
   "display_name": "Python 3",
   "language": "python",
   "name": "python3"
  },
  "language_info": {
   "codemirror_mode": {
    "name": "ipython",
    "version": 3
   },
   "file_extension": ".py",
   "mimetype": "text/x-python",
   "name": "python",
   "nbconvert_exporter": "python",
   "pygments_lexer": "ipython3",
   "version": "3.12.7"
  }
 },
 "nbformat": 4,
 "nbformat_minor": 2
}

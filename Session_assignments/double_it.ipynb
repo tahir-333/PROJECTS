{
 "cells": [
  {
   "cell_type": "markdown",
   "metadata": {},
   "source": [
    "# PROBLEM STATEMENT \n",
    "\n",
    "Write a program that asks a user to enter a number. Your program will then double that number and print out the result. It will repeat that process until the value is 100 or greater.\n",
    "\n",
    "For example if the user enters the number 2 you would then print:\n",
    "\n",
    "4 8 16 32 64 128\n",
    "\n",
    "Note that:\n",
    "\n",
    "2 doubled is 4\n",
    "\n",
    "4 doubled is 8\n",
    "\n",
    "8 doubled is 16\n",
    "\n",
    "and so on.\n",
    "\n",
    "We stop at 128 because that value is greater than 100.\n",
    "\n",
    "Maintain the current number in a variable named curr_value. When you double the number, you should be updating curr_value. Recall that you can double the value of curr_value using a line like:\n",
    "\n",
    "curr_value = curr_value * 2\n",
    "\n",
    "This program should have a while loop and the while loop condition should test if curr_value is less than 100. Thus, your program will have the line:\n",
    "\n",
    "while curr_value < 100:"
   ]
  },
  {
   "cell_type": "markdown",
   "metadata": {},
   "source": [
    "###  STEPS TO SOLVE THE PROBLEM \n",
    "* Taking user input and type casting\n",
    "* Use of while loop and doubling the input \n",
    "* Draping the whole code in the function."
   ]
  },
  {
   "cell_type": "code",
   "execution_count": null,
   "metadata": {},
   "outputs": [
    {
     "name": "stdout",
     "output_type": "stream",
     "text": [
      "4\n",
      "8\n",
      "16\n",
      "32\n",
      "64\n",
      "128\n"
     ]
    }
   ],
   "source": [
    "# Taking the user input and the type casting \n",
    "def double_it():\n",
    "    a : input = int(input(\"Enter the Number: \"))\n",
    "\n",
    "    # Use of while loop and doubling the input \n",
    "\n",
    "    while a <=100:\n",
    "        a = a *2\n",
    "        print(a)                                                        # Printing the result in the vertical formate.\n",
    "        \n",
    "        \n",
    "double_it()                              # Calling the function"
   ]
  },
  {
   "cell_type": "code",
   "execution_count": null,
   "metadata": {},
   "outputs": [
    {
     "name": "stdout",
     "output_type": "stream",
     "text": [
      "612244896192"
     ]
    }
   ],
   "source": [
    "# Taking the input from the user and type casting \n",
    "\n",
    "def double_it():                                              # Wrapping the whole code in the function.\n",
    "    a : input = int(input(\"Enter the Number: \"))\n",
    "\n",
    "    # Use of while loop and doubling the input \n",
    "\n",
    "    while a <= 100:\n",
    "        a = a*2\n",
    "        print(a, end = \"\")                                 # Printing the result in the horizontal (list) formate without any space between the integers.\n",
    "        \n",
    "double_it()                              # Calling the function "
   ]
  },
  {
   "cell_type": "code",
   "execution_count": null,
   "metadata": {},
   "outputs": [
    {
     "name": "stdout",
     "output_type": "stream",
     "text": [
      "8 16 32 64 128 "
     ]
    }
   ],
   "source": [
    "# Taking the input from the user and type casting \n",
    "\n",
    "def double_it():\n",
    "    a : input = int(input(\"Enter the Number: \"))\n",
    "\n",
    "    # Use of while loop and doubling the result\n",
    "\n",
    "    while a <= 100:\n",
    "        a = a *2 \n",
    "        print(a, end = \" \")                              # Printing the result in horizontal formate with single space between the integers\n",
    "        \n",
    "        \n",
    "double_it()                        # Calling the function "
   ]
  }
 ],
 "metadata": {
  "kernelspec": {
   "display_name": "Python 3",
   "language": "python",
   "name": "python3"
  },
  "language_info": {
   "codemirror_mode": {
    "name": "ipython",
    "version": 3
   },
   "file_extension": ".py",
   "mimetype": "text/x-python",
   "name": "python",
   "nbconvert_exporter": "python",
   "pygments_lexer": "ipython3",
   "version": "3.12.7"
  }
 },
 "nbformat": 4,
 "nbformat_minor": 2
}

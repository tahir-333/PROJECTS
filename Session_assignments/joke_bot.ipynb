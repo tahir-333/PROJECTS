{
 "cells": [
  {
   "cell_type": "markdown",
   "metadata": {},
   "source": [
    " # PROBLEM STATEMENT\n",
    " \n",
    "Write a simple joke bot. The bot starts by asking the user what they want. However, your program will only respond to one response: Joke.\n",
    "\n",
    "If the user enters Joke then we will print out a single joke. Each time the joke is always the same:\n",
    "\n",
    "Here is a joke for you! Panaversity GPT - Sophia is heading out to the grocery store. A programmer tells her: get a liter of milk, and if they have eggs, get 12. Sophia returns with 13 liters of milk. The programmer asks why and Sophia replies: 'because they had eggs'\n",
    "\n",
    "If the user enters anything else we print out:\n",
    "\n",
    "Sorry I only tell jokes\n",
    "\n",
    "You should use the three constants:\n",
    "\n",
    "PROMPT JOKE SORRY\n",
    "\n",
    "which contain the strings for the prompt asked to the user, the joke to print out if the user enters Joke and the sorry message if the user enters anything else.\n",
    "\n",
    "Your program will need to use an if statement which checks if the user input is Joke:\n",
    "\n",
    "if user_input == \"Joke\":\n",
    "\n",
    "Recall that == is a comparison which tests if two values are equal to one another.\n",
    "\n",
    "Here is a full run of the program (user input is in blue):\n",
    "\n",
    "What do you want? Joke Here is a joke for you! Panaversity GPT - Sophia is heading out to the grocery store. A programmer tells her: get a liter of milk, and if they have eggs, get 12. Sophia returns with 13 liters of milk. The programmer asks why and Sophia replies: 'because they had eggs'"
   ]
  },
  {
   "cell_type": "markdown",
   "metadata": {},
   "source": [
    "### STEPS TO DO THE PROJECT\n",
    "* User input\n",
    "* Use if-else statement\n",
    "* Enclose the code in a function "
   ]
  },
  {
   "cell_type": "code",
   "execution_count": null,
   "metadata": {},
   "outputs": [
    {
     "name": "stdout",
     "output_type": "stream",
     "text": [
      "joke\n",
      "Why do programmers prefer dark mode?\n",
      "             Because light attracts bugs! 🪲\n"
     ]
    }
   ],
   "source": [
    "# Input and the joke variables are constant here as we have to keep the input value and the joke value alike, in the whole program.\n",
    "\n",
    "\n",
    "INPUT : str = \"What you want?\"\n",
    "JOKE : str = \"\"\"Why do programmers prefer dark mode?\n",
    "             Because light attracts bugs! 🪲\"\"\"\n",
    "\n",
    "\n",
    "# Enclosing the code in a function \n",
    "\n",
    "def joke_bot():\n",
    "    \n",
    "# Get the user input \n",
    "    user_input : str = input(INPUT)\n",
    "    print(user_input)\n",
    "\n",
    "# Use of if-else statement \n",
    "\n",
    "    if user_input.lower() == \"joke\":\n",
    "        print(JOKE)\n",
    "    \n",
    "    else:\n",
    "        print(\"Sorry i can only print joke!\")\n",
    "    \n",
    "joke_bot()"
   ]
  },
  {
   "cell_type": "code",
   "execution_count": 11,
   "metadata": {},
   "outputs": [
    {
     "name": "stdout",
     "output_type": "stream",
     "text": [
      "JOKE\n",
      "Why do programmers prefer dark mode?\n",
      "             Because light attracts bugs! 🪲\n"
     ]
    }
   ],
   "source": [
    "joke_bot()"
   ]
  },
  {
   "cell_type": "code",
   "execution_count": 12,
   "metadata": {},
   "outputs": [
    {
     "name": "stdout",
     "output_type": "stream",
     "text": [
      "Hello\n",
      "Sorry i can only print joke!\n"
     ]
    }
   ],
   "source": [
    "joke_bot()"
   ]
  }
 ],
 "metadata": {
  "kernelspec": {
   "display_name": "Python 3",
   "language": "python",
   "name": "python3"
  },
  "language_info": {
   "codemirror_mode": {
    "name": "ipython",
    "version": 3
   },
   "file_extension": ".py",
   "mimetype": "text/x-python",
   "name": "python",
   "nbconvert_exporter": "python",
   "pygments_lexer": "ipython3",
   "version": "3.12.7"
  }
 },
 "nbformat": 4,
 "nbformat_minor": 2
}

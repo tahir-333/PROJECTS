{
 "cells": [
  {
   "cell_type": "markdown",
   "metadata": {},
   "source": [
    "# PROBLEM STATEMENT \n",
    "\n",
    "#### GUESS MY NUMBER\n",
    "\n",
    "I am thinking of a number between 0 and 99... Enter a guess: 50 Your guess is too high\n",
    "\n",
    "Enter a new number: 25 Your guess is too low\n",
    "\n",
    "Enter a new number: 40 Your guess is too low\n",
    "\n",
    "Enter a new number: 45 Your guess is too low\n",
    "\n",
    "Enter a new number: 48 Congrats! The number was: 48\n",
    "\n"
   ]
  },
  {
   "cell_type": "markdown",
   "metadata": {},
   "source": [
    "### STEPS TO SOLVE THE PROBLEM\n",
    "* Let computer randomly generate the number \n",
    "* Use while condition with break statement \n",
    "* Get user input (number)"
   ]
  },
  {
   "cell_type": "code",
   "execution_count": 17,
   "metadata": {},
   "outputs": [
    {
     "name": "stdout",
     "output_type": "stream",
     "text": [
      "68\n",
      "Attempts Left:  5\n",
      "Too High\n",
      "Attempts Left:  4\n",
      "Too Low\n",
      "Attempts Left:  3\n",
      "Too Low\n",
      "Attempts Left:  2\n",
      "Congrats! The number was:  68\n"
     ]
    }
   ],
   "source": [
    "# Let computer generate and save a number using random  \n",
    "\n",
    "import random\n",
    "random_generated_num : int = random.randint(0, 100)\n",
    "print(random_generated_num)\n",
    "allowed_attempts : int = 5\n",
    "user_attempts : int = 0\n",
    "\n",
    "# Use of While condition with break statement \n",
    "\n",
    "while True:\n",
    "    print(\"Attempts Left: \",allowed_attempts - user_attempts)\n",
    "    if(user_attempts == allowed_attempts):\n",
    "        print(\"Game Over!\")\n",
    "        break\n",
    "    \n",
    "# Get user input (number)\n",
    "    user_input : int = int(input(\"Enter Number Between 0-100: \"))\n",
    "    user_attempts += 1\n",
    "\n",
    "# Using if-elif-else statement \n",
    "    if user_input == random_generated_num:\n",
    "        print(\"Congrats! The number was: \",random_generated_num)\n",
    "        break\n",
    "    if user_input > random_generated_num:\n",
    "        print(\"Too High\")\n",
    "    elif user_input < random_generated_num:\n",
    "        print(\"Too Low\")\n",
    "    else:\n",
    "        print(\"Invalid Input\")\n",
    "                    \n",
    "\n",
    "\n",
    "\n",
    "    "
   ]
  },
  {
   "cell_type": "code",
   "execution_count": null,
   "metadata": {},
   "outputs": [
    {
     "name": "stdout",
     "output_type": "stream",
     "text": [
      "Random number (for testing purposes): 54\n",
      "Attempts Left: 5\n",
      "Too High!\n",
      "Attempts Left: 4\n",
      "Too Low!\n",
      "Attempts Left: 3\n",
      "Too Low!\n",
      "Attempts Left: 2\n",
      "Congrats! You guessed the number: 54\n"
     ]
    }
   ],
   "source": [
    "# Let computer generate and save a number using random  \n",
    "import random\n",
    "\n",
    "# Generate a random number\n",
    "random_generated_num: int = random.randint(0, 100)\n",
    "print(\"Random number (for testing purposes):\", random_generated_num)                # Remove in the actual game\n",
    "allowed_attempts: int = 5\n",
    "user_attempts: int = 0\n",
    "\n",
    "# Use a while loop to give the player multiple chances\n",
    "while True:\n",
    "    print(\"Attempts Left:\", allowed_attempts - user_attempts)\n",
    "    \n",
    "    # Check if attempts are over\n",
    "    if user_attempts == allowed_attempts:\n",
    "        print(\"Game Over! The number was:\", random_generated_num)\n",
    "        break\n",
    "    \n",
    "    # Get user input (number)\n",
    "    try:\n",
    "        user_input: int = int(input(\"Enter a number between 0-100: \"))\n",
    "    except ValueError:\n",
    "        print(\"Invalid input! Please enter a valid number.\")\n",
    "        continue\n",
    "\n",
    "    # Increment attempts\n",
    "    user_attempts += 1\n",
    "\n",
    "    # Check if the guess is correct\n",
    "    if user_input == random_generated_num:\n",
    "        print(\"Congrats! You guessed the number:\", random_generated_num)\n",
    "        break\n",
    "    elif user_input > random_generated_num:\n",
    "        print(\"Too High!\")\n",
    "    elif user_input < random_generated_num:\n",
    "        print(\"Too Low!\")\n"
   ]
  }
 ],
 "metadata": {
  "kernelspec": {
   "display_name": "Python 3",
   "language": "python",
   "name": "python3"
  },
  "language_info": {
   "codemirror_mode": {
    "name": "ipython",
    "version": 3
   },
   "file_extension": ".py",
   "mimetype": "text/x-python",
   "name": "python",
   "nbconvert_exporter": "python",
   "pygments_lexer": "ipython3",
   "version": "3.12.7"
  }
 },
 "nbformat": 4,
 "nbformat_minor": 2
}

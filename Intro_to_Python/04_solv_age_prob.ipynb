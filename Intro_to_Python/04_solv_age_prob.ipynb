{
 "cells": [
  {
   "cell_type": "markdown",
   "metadata": {},
   "source": [
    "# PROBLEM STATEMENT\n",
    "Write a program to solve this age-related riddle!\n",
    "\n",
    "Anton, Beth, Chen, Drew, and Ethan are all friends. Their ages are as follows:\n",
    "\n",
    "Anton is 21 years old.\n",
    "\n",
    "Beth is 6 years older than Anton.\n",
    "\n",
    "Chen is 20 years older than Beth.\n",
    "\n",
    "Drew is as old as Chen's age plus Anton's age.\n",
    "\n",
    "Ethan is the same age as Chen.\n",
    "\n",
    "Your code should store each person's age to a variable and print their names and ages at the end. The autograder is sensitive to capitalization and punctuation, be careful! Your solution should look like this (the below numbers are made up -- your solution should have the correct values!):\n",
    "\n",
    "Anton is 3\n",
    "\n",
    "Beth is 4\n",
    "\n",
    "Chen is 5\n",
    "\n",
    "Drew is 6\n",
    "\n",
    "Ethan is 7"
   ]
  },
  {
   "cell_type": "code",
   "execution_count": 9,
   "metadata": {},
   "outputs": [
    {
     "name": "stdout",
     "output_type": "stream",
     "text": [
      "Anton is 21.\n",
      "Beth is 27.\n",
      "Chen is 47.\n",
      "Drew is 68.\n",
      "Ethan is 47.\n"
     ]
    }
   ],
   "source": [
    "Anton_age: int = 21\n",
    "Beth_age: int = Anton + 6\n",
    "Chen_age: int = Beth + 20\n",
    "Drew_age: int = Chen + Anton\n",
    "Ethan_age: int = Chen\n",
    "\n",
    "print(f\"Anton is {Anton_age}.\")\n",
    "print(f\"Beth is {Beth_age}.\")\n",
    "print(f\"Chen is {Chen_age}.\")\n",
    "print(f\"Drew is {Drew_age}.\")\n",
    "print(f\"Ethan is {Ethan_age}.\")"
   ]
  }
 ],
 "metadata": {
  "kernelspec": {
   "display_name": "Python 3",
   "language": "python",
   "name": "python3"
  },
  "language_info": {
   "codemirror_mode": {
    "name": "ipython",
    "version": 3
   },
   "file_extension": ".py",
   "mimetype": "text/x-python",
   "name": "python",
   "nbconvert_exporter": "python",
   "pygments_lexer": "ipython3",
   "version": "3.12.7"
  }
 },
 "nbformat": 4,
 "nbformat_minor": 2
}

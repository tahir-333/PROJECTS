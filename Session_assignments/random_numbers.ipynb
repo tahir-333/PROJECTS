{
 "cells": [
  {
   "cell_type": "markdown",
   "metadata": {},
   "source": [
    "# PROBLEM STATEMENT\n",
    "\n",
    "Print 10 random numbers in the range 1 to 100.\n",
    "\n",
    "Here is an example run:\n",
    "\n",
    "45 79 61 47 52 10 16 83 19 12\n",
    "\n",
    "Each time you run your program you should get different numbers\n",
    "\n",
    "81 76 70 1 27 63 96 100 32 92\n",
    "\n",
    "Recall that the python random library has a function randint which returns an integer in the range set by the parameters (inclusive). For example this call would produce a random integer between 1 and 6, which could include 1 and could include 6:\n",
    "\n",
    "value = random.randint(1, 6)"
   ]
  },
  {
   "cell_type": "markdown",
   "metadata": {},
   "source": [
    "### STEPS TO SOLVE THE PROBLEM\n",
    "* Import random library \n",
    "* Use for loop"
   ]
  },
  {
   "cell_type": "code",
   "execution_count": 124,
   "metadata": {},
   "outputs": [
    {
     "name": "stdout",
     "output_type": "stream",
     "text": [
      "65 70 95 76 27 42 65 3 91 11 "
     ]
    }
   ],
   "source": [
    "import random \n",
    "\n",
    "# Solution to get a random number print(random.randint(1, 100))\n",
    "MIN_NUM : int = 1\n",
    "MAX_NUM : int = 100\n",
    "N_RAN_NUM : int = 10\n",
    "\n",
    "# Function \n",
    "# Use for loop\n",
    "number_list = []\n",
    "for i in range (N_RAN_NUM):\n",
    "    rand_number = random.randint(MIN_NUM, MAX_NUM)\n",
    "    number_list.append(rand_number)\n",
    "    print(rand_number, end = \" \")\n",
    "    "
   ]
  },
  {
   "cell_type": "code",
   "execution_count": 128,
   "metadata": {},
   "outputs": [
    {
     "name": "stdout",
     "output_type": "stream",
     "text": [
      "[65, 70, 95, 76, 27, 42, 65, 3, 91, 11]\n"
     ]
    }
   ],
   "source": [
    "print(number_list)"
   ]
  },
  {
   "cell_type": "code",
   "execution_count": null,
   "metadata": {},
   "outputs": [
    {
     "name": "stdout",
     "output_type": "stream",
     "text": [
      "65 70 95 76 27 42 65 3 91 11\n"
     ]
    }
   ],
   "source": [
    "print(*number_list)                                               # Unpacking the list to get alike result as described in the problem."
   ]
  },
  {
   "cell_type": "code",
   "execution_count": null,
   "metadata": {},
   "outputs": [
    {
     "name": "stdout",
     "output_type": "stream",
     "text": [
      "[95 80 25 17 27 77 32 29 78 81]\n",
      "95 80 25 17 27 77 32 29 78 81\n"
     ]
    }
   ],
   "source": [
    "# Solution using numpy (numerical python)                # A powerful library in python to perform complex numerical operations.\n",
    "\n",
    "MIN_NUM : int = 1\n",
    "MAX_NUM : int = 100\n",
    "N_RAN_NUM : int = 10\n",
    "\n",
    "import numpy as np\n",
    "number_list = np.random.randint(MIN_NUM, MAX_NUM, N_RAN_NUM)\n",
    "print(number_list)\n",
    "print(*number_list)\n"
   ]
  }
 ],
 "metadata": {
  "kernelspec": {
   "display_name": "Python 3",
   "language": "python",
   "name": "python3"
  },
  "language_info": {
   "codemirror_mode": {
    "name": "ipython",
    "version": 3
   },
   "file_extension": ".py",
   "mimetype": "text/x-python",
   "name": "python",
   "nbconvert_exporter": "python",
   "pygments_lexer": "ipython3",
   "version": "3.12.7"
  }
 },
 "nbformat": 4,
 "nbformat_minor": 2
}

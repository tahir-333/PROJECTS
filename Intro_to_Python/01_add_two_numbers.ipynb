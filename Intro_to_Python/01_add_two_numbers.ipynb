{
 "cells": [
  {
   "cell_type": "markdown",
   "metadata": {},
   "source": [
    "# PROBLEM STATEMENT\n",
    "Write a Python program that takes two integer inputs from the user and calculates their sum. The program should perform the following tasks:\n",
    "\n",
    "1. Prompt the user to enter the first number.\n",
    "\n",
    "2. Read the input and convert it to an integer.\n",
    "\n",
    "3. Prompt the user to enter the second number.\n",
    "\n",
    "4. Read the input and convert it to an integer.\n",
    "\n",
    "5. Calculate the sum of the two numbers.\n",
    "\n",
    "6. Print the total sum with an appropriate message."
   ]
  },
  {
   "cell_type": "code",
   "execution_count": 4,
   "metadata": {},
   "outputs": [
    {
     "name": "stdout",
     "output_type": "stream",
     "text": [
      "3\n",
      "The sum of 1 and 2 is 3.\n"
     ]
    }
   ],
   "source": [
    "num1 = input(\"Enter first number: \")\n",
    "num1 = int(num1)\n",
    "num2 = input(\"Enter the second number: \")\n",
    "num2 = int(num2)\n",
    "sum = num1 + num2\n",
    "print(sum)\n",
    "message = f\"The sum of {num1} and {num2} is {sum}.\"\n",
    "print(message)\n",
    "\n",
    "\n"
   ]
  }
 ],
 "metadata": {
  "kernelspec": {
   "display_name": "Python 3",
   "language": "python",
   "name": "python3"
  },
  "language_info": {
   "codemirror_mode": {
    "name": "ipython",
    "version": 3
   },
   "file_extension": ".py",
   "mimetype": "text/x-python",
   "name": "python",
   "nbconvert_exporter": "python",
   "pygments_lexer": "ipython3",
   "version": "3.12.7"
  }
 },
 "nbformat": 4,
 "nbformat_minor": 2
}
